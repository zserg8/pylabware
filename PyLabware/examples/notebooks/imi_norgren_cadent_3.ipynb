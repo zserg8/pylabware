{
 "cells": [
  {
   "cell_type": "code",
   "execution_count": 2,
   "metadata": {},
   "outputs": [],
   "source": [
    "import logging\n",
    "\n",
    "fh = logging.FileHandler('cadent3.log')\n",
    "ch = logging.StreamHandler()\n",
    "ch.setLevel(logging.INFO)\n",
    "\n",
    "logging.basicConfig(\n",
    "    format='%(asctime)s - %(name)s - %(levelname)s - %(message)s',\n",
    "    level=logging.DEBUG,\n",
    "    handlers=[fh, ch]\n",
    ")\n",
    "\n",
    "logging.getLogger('parso').setLevel(logging.WARNING)"
   ]
  },
  {
   "cell_type": "code",
   "execution_count": 3,
   "metadata": {},
   "outputs": [],
   "source": [
    "# for debugging the package run this cell\n",
    "# import sys\n",
    "# sys.path.insert(0, r'C:\\GitProjects\\pylabware')"
   ]
  },
  {
   "cell_type": "code",
   "execution_count": 4,
   "metadata": {},
   "outputs": [],
   "source": [
    "from PyLabware import Cadent3SyringePump"
   ]
  },
  {
   "cell_type": "code",
   "execution_count": 5,
   "metadata": {},
   "outputs": [],
   "source": [
    "# Constants\n",
    "PUMP_PORT = \"COM26\"\n",
    "SYRINGE_SIZE = 5000 # in uL\n",
    "INPUT_PORT = \"1\" # no idea whats supported\n",
    "OUTPUT_PORT = \"2\" # no idea whats supported"
   ]
  },
  {
   "cell_type": "code",
   "execution_count": 6,
   "metadata": {},
   "outputs": [
    {
     "name": "stdout",
     "output_type": "stream",
     "text": [
      "['_recv', 'calibrate_volume', 'cast_reply_type', 'check_errors', 'check_value']\n",
      "['clear_errors', 'connect', 'disconnect', 'dispense', 'execute_when_ready']\n",
      "['get_all_tasks', 'get_plunger_position', 'get_pump_configuration', 'get_pump_resolution', 'get_ramp_slope']\n",
      "['get_speed', 'get_status', 'get_valve_position', 'get_valve_type', 'get_velocities']\n",
      "['initialize_device', 'is_connected', 'is_idle', 'is_initialized', 'move_home']\n",
      "['move_plunger_absolute', 'move_plunger_relative', 'parse_reply', 'prepare_message', 'prime_pump']\n",
      "['send', 'set_max_velocity', 'set_ramp_slope', 'set_speed', 'set_start_velocity']\n",
      "['set_stop_velocity', 'set_valve_position', 'set_valve_type', 'start', 'start_task']\n",
      "['stop', 'stop_all_tasks', 'stop_task', 'transfer', 'wait_until_ready']\n",
      "['withdraw']\n"
     ]
    }
   ],
   "source": [
    "# Methods to test\n",
    "method_list = [func for func in dir(Cadent3SyringePump) if callable(getattr(Cadent3SyringePump, func))]\n",
    "method_list = [method for method in method_list if not method.startswith('__')]\n",
    "for i in range(0, len(method_list), 5):\n",
    "    print(method_list[i:i+5])"
   ]
  },
  {
   "cell_type": "code",
   "execution_count": 7,
   "metadata": {},
   "outputs": [],
   "source": [
    "sp = Cadent3SyringePump(\n",
    "    device_name='cadent3',\n",
    "    connection_mode='serial',\n",
    "    port=PUMP_PORT,\n",
    "    address=None,\n",
    "    switch_address=1,\n",
    "    valve_type=\"2PORT_DISTR\"\n",
    ")"
   ]
  },
  {
   "cell_type": "code",
   "execution_count": 8,
   "metadata": {},
   "outputs": [
    {
     "name": "stdout",
     "output_type": "stream",
     "text": [
      "True\n",
      "False\n"
     ]
    }
   ],
   "source": [
    "# check autorun\n",
    "print(sp.autorun)\n",
    "sp.autorun = False\n",
    "print(sp.autorun)\n",
    "sp.autorun = True"
   ]
  },
  {
   "cell_type": "code",
   "execution_count": 9,
   "metadata": {},
   "outputs": [
    {
     "name": "stderr",
     "output_type": "stream",
     "text": [
      "2024-06-24 15:22:24,247 - PyLabware.connections.SerialConnection - INFO - Starting connection listener...\n",
      "2024-06-24 15:22:24,247 - PyLabware.connections.SerialConnection - INFO - Port COM26 opened.\n",
      "2024-06-24 15:22:24,251 - PyLabware.controllers.Cadent3SyringePump.cadent3 - INFO - Opened connection.\n"
     ]
    }
   ],
   "source": [
    "sp.connect()"
   ]
  },
  {
   "cell_type": "code",
   "execution_count": 10,
   "metadata": {},
   "outputs": [
    {
     "name": "stderr",
     "output_type": "stream",
     "text": [
      "2024-06-24 15:22:28,556 - PyLabware.controllers.Cadent3SyringePump.cadent3 - INFO - Device initialized.\n"
     ]
    }
   ],
   "source": [
    "sp.initialize_device(input_port=INPUT_PORT, output_port=OUTPUT_PORT)"
   ]
  },
  {
   "cell_type": "code",
   "execution_count": 11,
   "metadata": {},
   "outputs": [
    {
     "data": {
      "text/plain": [
       "True"
      ]
     },
     "execution_count": 11,
     "metadata": {},
     "output_type": "execute_result"
    }
   ],
   "source": [
    "sp.is_initialized()"
   ]
  },
  {
   "cell_type": "code",
   "execution_count": 12,
   "metadata": {},
   "outputs": [],
   "source": [
    "#sp.calibrate_volume() # is interactive, we dont run it in ipynb\n",
    "sp.check_errors() # should raise PLDeviceInternalError\""
   ]
  },
  {
   "cell_type": "code",
   "execution_count": 13,
   "metadata": {},
   "outputs": [
    {
     "name": "stderr",
     "output_type": "stream",
     "text": [
      "2024-06-24 15:22:29,122 - PyLabware.connections.SerialConnection - INFO - Connection listener exiting.\n",
      "2024-06-24 15:22:29,254 - PyLabware.connections.SerialConnection - INFO - Port COM26 closed.\n",
      "2024-06-24 15:22:29,256 - PyLabware.controllers.Cadent3SyringePump.cadent3 - INFO - Closed connection.\n",
      "2024-06-24 15:22:29,271 - PyLabware.connections.SerialConnection - INFO - Starting connection listener...\n",
      "2024-06-24 15:22:29,271 - PyLabware.connections.SerialConnection - INFO - Port COM26 opened.\n",
      "2024-06-24 15:22:29,273 - PyLabware.controllers.Cadent3SyringePump.cadent3 - INFO - Opened connection.\n"
     ]
    },
    {
     "data": {
      "text/plain": [
       "True"
      ]
     },
     "execution_count": 13,
     "metadata": {},
     "output_type": "execute_result"
    }
   ],
   "source": [
    "sp.clear_errors() # not implemented, not needed\n",
    "sp.disconnect()\n",
    "sp.connect()\n",
    "sp.is_connected()"
   ]
  },
  {
   "cell_type": "code",
   "execution_count": 14,
   "metadata": {},
   "outputs": [
    {
     "data": {
      "text/plain": [
       "'\\nsp.dispense() #ok\\nsp.execute_when_ready() #ok\\nsp.get_plunger_position() # ok\\nsp.get_speed() # not supported on this model\\nsp.get_status() # TODO implement through status byte analysis\\nsp.get_valve_position() # ok\\nsp.is_idle() # ok\\nsp.move_home() # ok\\nsp.move_plunger_absolute() # ok\\nsp.move_plunger_relative() # ok \\nsp.prime_pump() # ok\\nsp.set_valve_position() # ok\\nsp.set_valve_type() # ok\\nsp.wait_until_ready() # ok\\nsp.withdraw() # ok\\n\\nsp.get_pump_configuration() # TODO implement\\nsp.get_all_tasks()\\nsp.set_predefined_speed()\\nsp.set_ramp_slope()\\nsp.set_resolution_mode()\\nsp.set_speed()\\nsp.set_start_velocity()\\nsp.set_stop_velocity()\\nsp.start()\\nsp.start_task()\\nsp.stop_all_tasks()\\nsp.stop_task()\\nsp.transfer()\\n'"
      ]
     },
     "execution_count": 14,
     "metadata": {},
     "output_type": "execute_result"
    }
   ],
   "source": [
    "'''\n",
    "sp.dispense() #ok\n",
    "sp.execute_when_ready() #ok\n",
    "sp.get_plunger_position() # ok\n",
    "sp.get_speed() # not supported on this model\n",
    "sp.get_status() # TODO implement through status byte analysis\n",
    "sp.get_valve_position() # ok\n",
    "sp.is_idle() # ok\n",
    "sp.move_home() # ok\n",
    "sp.move_plunger_absolute() # ok\n",
    "sp.move_plunger_relative() # ok \n",
    "sp.prime_pump() # ok\n",
    "sp.set_valve_position() # ok\n",
    "sp.set_valve_type() # ok\n",
    "sp.wait_until_ready() # ok\n",
    "sp.withdraw() # ok\n",
    "\n",
    "sp.get_pump_configuration() # TODO implement\n",
    "sp.get_all_tasks()\n",
    "sp.set_predefined_speed()\n",
    "sp.set_ramp_slope()\n",
    "sp.set_resolution_mode()\n",
    "sp.set_speed()\n",
    "sp.set_start_velocity()\n",
    "sp.set_stop_velocity()\n",
    "sp.start()\n",
    "sp.start_task()\n",
    "sp.stop_all_tasks()\n",
    "sp.stop_task()\n",
    "sp.transfer()\n",
    "'''"
   ]
  },
  {
   "cell_type": "code",
   "execution_count": 15,
   "metadata": {},
   "outputs": [
    {
     "name": "stderr",
     "output_type": "stream",
     "text": [
      "2024-06-24 15:22:33,819 - PyLabware.controllers.Cadent3SyringePump.cadent3 - INFO - Device initialized.\n",
      "2024-06-24 15:22:35,331 - PyLabware.controllers.Cadent3SyringePump.cadent3 - INFO - Please, execute set_valve_type(valve_type, confirm=True)to write new valve configuration to pump NMV.\n"
     ]
    }
   ],
   "source": [
    "sp.initialize_device(input_port=INPUT_PORT, output_port=OUTPUT_PORT)\n",
    "sp.is_initialized()\n",
    "sp.check_errors() # should raise PLDeviceInternalError\"\n",
    "sp.is_connected()\n",
    "sp.set_valve_type(valve_type=\"2PORT_DISTR\", confirm=False)"
   ]
  },
  {
   "cell_type": "code",
   "execution_count": 16,
   "metadata": {},
   "outputs": [],
   "source": [
    "# sp.set_valve_type(valve_type=\"30149\", confirm=True) # TODO enquire with IMI. According to spec this should be supported!\n",
    "sp.set_valve_type(valve_type=\"2PORT_DISTR\", confirm=True)"
   ]
  },
  {
   "cell_type": "code",
   "execution_count": 17,
   "metadata": {},
   "outputs": [
    {
     "data": {
      "text/plain": [
       "'13, 23170'"
      ]
     },
     "execution_count": 17,
     "metadata": {},
     "output_type": "execute_result"
    }
   ],
   "source": [
    "sp.get_valve_type()"
   ]
  },
  {
   "cell_type": "code",
   "execution_count": 18,
   "metadata": {},
   "outputs": [
    {
     "data": {
      "text/plain": [
       "0"
      ]
     },
     "execution_count": 18,
     "metadata": {},
     "output_type": "execute_result"
    }
   ],
   "source": [
    "sp.get_plunger_position()"
   ]
  },
  {
   "cell_type": "code",
   "execution_count": 19,
   "metadata": {},
   "outputs": [
    {
     "name": "stderr",
     "output_type": "stream",
     "text": [
      "2024-06-24 15:22:40,317 - PyLabware.controllers.Cadent3SyringePump.cadent3 - INFO - Priming the pump <cadent3>, port 1, cycle 1 out of 2...\n",
      "2024-06-24 15:22:47,554 - PyLabware.controllers.Cadent3SyringePump.cadent3 - INFO - Priming cycle 1 done\n",
      "2024-06-24 15:22:47,555 - PyLabware.controllers.Cadent3SyringePump.cadent3 - INFO - Priming the pump <cadent3>, port 1, cycle 2 out of 2...\n",
      "2024-06-24 15:22:54,730 - PyLabware.controllers.Cadent3SyringePump.cadent3 - INFO - Priming cycle 2 done\n",
      "2024-06-24 15:22:55,196 - PyLabware.controllers.Cadent3SyringePump.cadent3 - INFO - Priming done.\n"
     ]
    }
   ],
   "source": [
    "sp.prime_pump(\"1\")"
   ]
  },
  {
   "cell_type": "code",
   "execution_count": 20,
   "metadata": {},
   "outputs": [],
   "source": [
    "sp.wait_until_ready()\n",
    "sp.move_plunger_absolute(1000)"
   ]
  },
  {
   "cell_type": "code",
   "execution_count": 21,
   "metadata": {},
   "outputs": [],
   "source": [
    "sp.wait_until_ready()\n",
    "sp.set_valve_position(2)"
   ]
  },
  {
   "cell_type": "code",
   "execution_count": 22,
   "metadata": {},
   "outputs": [],
   "source": [
    "sp.wait_until_ready()\n",
    "sp.move_home()"
   ]
  },
  {
   "cell_type": "code",
   "execution_count": 23,
   "metadata": {},
   "outputs": [],
   "source": [
    "sp.wait_until_ready()\n",
    "sp.set_valve_position(1)"
   ]
  },
  {
   "cell_type": "code",
   "execution_count": 24,
   "metadata": {},
   "outputs": [
    {
     "data": {
      "text/plain": [
       "1200"
      ]
     },
     "execution_count": 24,
     "metadata": {},
     "output_type": "execute_result"
    }
   ],
   "source": [
    "pump_resolution = sp.get_pump_resolution()\n",
    "sp.steps_per_ml = pump_resolution / (SYRINGE_SIZE / 1000)\n",
    "sp.steps_per_ml"
   ]
  },
  {
   "cell_type": "code",
   "execution_count": 25,
   "metadata": {},
   "outputs": [],
   "source": [
    "sp.move_home()"
   ]
  },
  {
   "cell_type": "code",
   "execution_count": 26,
   "metadata": {},
   "outputs": [
    {
     "name": "stdout",
     "output_type": "stream",
     "text": [
      "Current position is 2400. Should be 2400\n",
      "Current position is 2200. Should be 2200\n",
      "Current position is 2400. Should be 2400\n"
     ]
    }
   ],
   "source": [
    "ABS_POS = 2*sp.steps_per_ml # should be 1ml\n",
    "sp.move_plunger_absolute(ABS_POS)\n",
    "sp.wait_until_ready()\n",
    "print(f\"Current position is {sp.get_plunger_position()}. Should be {ABS_POS}\")\n",
    "sp.move_plunger_relative(-200)\n",
    "sp.wait_until_ready()\n",
    "print(f\"Current position is {sp.get_plunger_position()}. Should be {ABS_POS-200}\")\n",
    "sp.move_plunger_relative(200)\n",
    "sp.wait_until_ready()\n",
    "print(f\"Current position is {sp.get_plunger_position()}. Should be {ABS_POS}\")"
   ]
  },
  {
   "cell_type": "code",
   "execution_count": 27,
   "metadata": {},
   "outputs": [],
   "source": [
    "sp.set_ramp_slope(accel_slope=300, decel_slope=750)"
   ]
  },
  {
   "cell_type": "code",
   "execution_count": 28,
   "metadata": {},
   "outputs": [
    {
     "data": {
      "text/plain": [
       "(300, 750)"
      ]
     },
     "execution_count": 28,
     "metadata": {},
     "output_type": "execute_result"
    }
   ],
   "source": [
    "sp.get_ramp_slope()"
   ]
  },
  {
   "cell_type": "code",
   "execution_count": 29,
   "metadata": {},
   "outputs": [
    {
     "data": {
      "text/plain": [
       "(550, 1500, 550)"
      ]
     },
     "execution_count": 29,
     "metadata": {},
     "output_type": "execute_result"
    }
   ],
   "source": [
    "sp.set_start_velocity(550)\n",
    "sp.set_stop_velocity(550)\n",
    "sp.set_max_velocity(1500)\n",
    "sp.get_velocities()"
   ]
  },
  {
   "cell_type": "code",
   "execution_count": 30,
   "metadata": {},
   "outputs": [
    {
     "name": "stderr",
     "output_type": "stream",
     "text": [
      "2024-06-24 15:23:17,293 - PyLabware.controllers.Cadent3SyringePump.cadent3 - INFO - Executing transfer of <4.5> mL from <2> to <1>\n",
      "2024-06-24 15:23:17,294 - PyLabware.controllers.Cadent3SyringePump.cadent3 - INFO - Transferring remaining <4.5> mL\n",
      "2024-06-24 15:23:30,859 - PyLabware.controllers.Cadent3SyringePump.cadent3 - INFO - Transfer done.\n"
     ]
    }
   ],
   "source": [
    "sp.transfer(volume_ml=4.5, port_from=OUTPUT_PORT, port_to=INPUT_PORT)"
   ]
  },
  {
   "cell_type": "code",
   "execution_count": 31,
   "metadata": {},
   "outputs": [
    {
     "data": {
      "text/plain": [
       "'01100000'"
      ]
     },
     "execution_count": 31,
     "metadata": {},
     "output_type": "execute_result"
    }
   ],
   "source": [
    "sp.get_status()"
   ]
  }
 ],
 "metadata": {
  "kernelspec": {
   "display_name": "Python 3",
   "language": "python",
   "name": "python3"
  },
  "language_info": {
   "codemirror_mode": {
    "name": "ipython",
    "version": 3
   },
   "file_extension": ".py",
   "mimetype": "text/x-python",
   "name": "python",
   "nbconvert_exporter": "python",
   "pygments_lexer": "ipython3",
   "version": "3.11.4"
  }
 },
 "nbformat": 4,
 "nbformat_minor": 4
}
